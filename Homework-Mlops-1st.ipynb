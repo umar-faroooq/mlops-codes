{
 "cells": [
  {
   "cell_type": "code",
   "execution_count": null,
   "id": "ba15adf7",
   "metadata": {},
   "outputs": [],
   "source": [
    "!python --version"
   ]
  },
  {
   "cell_type": "code",
   "execution_count": null,
   "id": "130572f8",
   "metadata": {},
   "outputs": [],
   "source": [
    "# !pip install pyarrow\n",
    "import seaborn as sns\n",
    "import matplotlib.pyplot as plt"
   ]
  },
  {
   "cell_type": "code",
   "execution_count": null,
   "id": "b859b31b",
   "metadata": {},
   "outputs": [],
   "source": [
    "import pandas as pd\n",
    "data =pd.read_parquet(\"data/yellow_tripdata_2022-01.parquet\", engine='pyarrow')"
   ]
  },
  {
   "cell_type": "code",
   "execution_count": null,
   "id": "901ceb7f",
   "metadata": {},
   "outputs": [],
   "source": [
    "data.head(5)"
   ]
  },
  {
   "cell_type": "code",
   "execution_count": null,
   "id": "8e3c4321",
   "metadata": {},
   "outputs": [],
   "source": [
    "count = 0\n",
    "cols = []\n",
    "for columns in data.columns:\n",
    "    count += 1\n",
    "    cols.append(columns)\n",
    "print(len(cols))\n",
    "print(count)\n",
    "# Read the data for January. How many columns are there? 19"
   ]
  },
  {
   "cell_type": "code",
   "execution_count": null,
   "id": "989e3c5b",
   "metadata": {},
   "outputs": [],
   "source": [
    "tpep_pickup_datetime = pd.to_datetime(data.tpep_pickup_datetime)\n",
    "tpep_dropoff_datetime = pd.to_datetime(data.tpep_dropoff_datetime)"
   ]
  },
  {
   "cell_type": "code",
   "execution_count": null,
   "id": "8ac4a747",
   "metadata": {},
   "outputs": [],
   "source": [
    "# data[data.trip_type == 2]\n",
    "data[\"duration\"] = data[\"tpep_dropoff_datetime\"]- data[\"tpep_pickup_datetime\"]\n",
    "\n",
    "# data[]"
   ]
  },
  {
   "cell_type": "code",
   "execution_count": null,
   "id": "c22bc290",
   "metadata": {},
   "outputs": [],
   "source": [
    "data[\"duration\"] = data[\"duration\"].apply(lambda td: td.total_seconds()/60)"
   ]
  },
  {
   "cell_type": "code",
   "execution_count": null,
   "id": "ebf30141",
   "metadata": {},
   "outputs": [],
   "source": [
    "# td = data.duration.iloc[0]\n",
    "# td.total_seconds()/60\n",
    "# What's the standard deviation of the trips duration in January? 46.45\n",
    "data[\"duration\"].std()"
   ]
  },
  {
   "cell_type": "code",
   "execution_count": null,
   "id": "7d27b0f7",
   "metadata": {},
   "outputs": [],
   "source": [
    "data[\"duration\"].nlargest(n=5)"
   ]
  },
  {
   "cell_type": "code",
   "execution_count": null,
   "id": "a5064bb8",
   "metadata": {},
   "outputs": [],
   "source": [
    "data[\"duration\"].nsmallest(n=5)"
   ]
  },
  {
   "cell_type": "code",
   "execution_count": null,
   "id": "96443f80",
   "metadata": {},
   "outputs": [],
   "source": [
    "sns.distplot(data.duration)"
   ]
  },
  {
   "cell_type": "code",
   "execution_count": null,
   "id": "6fe51d7b",
   "metadata": {},
   "outputs": [],
   "source": [
    "data[\"duration\"].describe(percentiles=[0.95, 0.98, 0.99])"
   ]
  },
  {
   "cell_type": "code",
   "execution_count": null,
   "id": "3b291999",
   "metadata": {},
   "outputs": [],
   "source": [
    "# What fraction of the records left after you dropped the outliers? 98%\n",
    "((data[\"duration\"] >= 1) & (data[\"duration\"] <= 60)).mean()"
   ]
  },
  {
   "cell_type": "code",
   "execution_count": null,
   "id": "8e23ad97",
   "metadata": {},
   "outputs": [],
   "source": [
    "data  = data[(data[\"duration\"] >= 1) & (data[\"duration\"] <= 60)]"
   ]
  },
  {
   "cell_type": "code",
   "execution_count": null,
   "id": "027c2ef5",
   "metadata": {},
   "outputs": [],
   "source": [
    "data\n"
   ]
  },
  {
   "cell_type": "code",
   "execution_count": null,
   "id": "35c24753",
   "metadata": {},
   "outputs": [],
   "source": [
    "categorical = [\"PULocationID\", \"DOLocationID\"]\n",
    "numerical = ['trip_distance']"
   ]
  },
  {
   "cell_type": "code",
   "execution_count": null,
   "id": "62e9d1c4",
   "metadata": {},
   "outputs": [],
   "source": [
    "data[categorical].dtypes"
   ]
  },
  {
   "cell_type": "code",
   "execution_count": null,
   "id": "5b1e7f1c",
   "metadata": {},
   "outputs": [],
   "source": [
    "data[categorical] = data[categorical].astype(str)"
   ]
  },
  {
   "cell_type": "code",
   "execution_count": null,
   "id": "4e857c57",
   "metadata": {},
   "outputs": [],
   "source": [
    "data[categorical].dtypes"
   ]
  },
  {
   "cell_type": "code",
   "execution_count": null,
   "id": "dbc89356",
   "metadata": {},
   "outputs": [],
   "source": [
    "data[\"PULocationID\"].unique()\n"
   ]
  },
  {
   "cell_type": "code",
   "execution_count": null,
   "id": "64fb3552",
   "metadata": {},
   "outputs": [],
   "source": []
  },
  {
   "cell_type": "code",
   "execution_count": null,
   "id": "642d88e4",
   "metadata": {},
   "outputs": [],
   "source": [
    "train_dicts = data[categorical].to_dict(orient='records')"
   ]
  },
  {
   "cell_type": "code",
   "execution_count": null,
   "id": "3478c224",
   "metadata": {},
   "outputs": [],
   "source": [
    "len(train_dicts)"
   ]
  },
  {
   "cell_type": "raw",
   "id": "d06e7a1e",
   "metadata": {},
   "source": []
  },
  {
   "cell_type": "code",
   "execution_count": null,
   "id": "62298386",
   "metadata": {},
   "outputs": [],
   "source": [
    "from sklearn.feature_extraction import DictVectorizer\n",
    "dv = DictVectorizer()\n",
    "x_train = dv.fit_transform(train_dicts)"
   ]
  },
  {
   "cell_type": "code",
   "execution_count": null,
   "id": "4803af76",
   "metadata": {},
   "outputs": [],
   "source": [
    "x_train"
   ]
  },
  {
   "cell_type": "code",
   "execution_count": null,
   "id": "e86d94a3",
   "metadata": {},
   "outputs": [],
   "source": [
    "# What's the dimensionality of this matrix (number of columns)? 515\n",
    "print(len(dv.feature_names_))"
   ]
  },
  {
   "cell_type": "code",
   "execution_count": null,
   "id": "5cc6de63",
   "metadata": {},
   "outputs": [],
   "source": [
    "target = 'duration'\n",
    "y_train = data[target].values"
   ]
  },
  {
   "cell_type": "code",
   "execution_count": null,
   "id": "d25a1f55",
   "metadata": {},
   "outputs": [],
   "source": [
    "y_train"
   ]
  },
  {
   "cell_type": "code",
   "execution_count": null,
   "id": "efc5f26a",
   "metadata": {},
   "outputs": [],
   "source": [
    "from sklearn.linear_model import LinearRegression"
   ]
  },
  {
   "cell_type": "code",
   "execution_count": null,
   "id": "45213787",
   "metadata": {},
   "outputs": [],
   "source": [
    "lr = LinearRegression()\n",
    "lr.fit(x_train, y_train)"
   ]
  },
  {
   "cell_type": "code",
   "execution_count": null,
   "id": "a20d828e",
   "metadata": {},
   "outputs": [],
   "source": [
    "# y_pred = lr.predict(x_train)"
   ]
  },
  {
   "cell_type": "code",
   "execution_count": null,
   "id": "c3619a1f",
   "metadata": {},
   "outputs": [],
   "source": [
    "sns.distplot(y_pred, label=\"Predictions\")\n",
    "sns.distplot(y_train, label=\"Actuals\")\n",
    "\n",
    "plt.legend()"
   ]
  },
  {
   "cell_type": "code",
   "execution_count": null,
   "id": "3200c15f",
   "metadata": {},
   "outputs": [],
   "source": [
    "from sklearn.metrics import mean_squared_error\n",
    "mean_squared_error(y_train,y_pred, squared=False)\n",
    "# What's the RMSE on train? 6.99"
   ]
  },
  {
   "cell_type": "code",
   "execution_count": 32,
   "id": "78384e01",
   "metadata": {},
   "outputs": [],
   "source": [
    "data_val = pd.read_parquet(\"data/yellow_tripdata_2022-02.parquet\", engine='pyarrow')"
   ]
  },
  {
   "cell_type": "code",
   "execution_count": null,
   "id": "50a4dcde",
   "metadata": {},
   "outputs": [],
   "source": []
  },
  {
   "cell_type": "code",
   "execution_count": 33,
   "id": "51bc6529",
   "metadata": {},
   "outputs": [],
   "source": [
    "data_val[\"duration\"] = data_val[\"tpep_dropoff_datetime\"]- data_val[\"tpep_pickup_datetime\"]\n",
    "\n",
    "data_val[\"duration\"] = data_val[\"duration\"].apply(lambda td: td.total_seconds()/60)"
   ]
  },
  {
   "cell_type": "code",
   "execution_count": 34,
   "id": "18106057",
   "metadata": {},
   "outputs": [],
   "source": [
    "data_val  = data_val[(data_val[\"duration\"] >= 1) & (data_val[\"duration\"] <= 60)]"
   ]
  },
  {
   "cell_type": "code",
   "execution_count": 35,
   "id": "c403542a",
   "metadata": {
    "scrolled": true
   },
   "outputs": [],
   "source": [
    "categorical = [\"PULocationID\", \"DOLocationID\"]\n",
    "data_val[categorical] = data_val[categorical].astype(str)\n",
    "test_dicts = data_val[categorical].to_dict(orient='records')\n",
    "x_test = dv.transform(test_dicts)\n"
   ]
  },
  {
   "cell_type": "code",
   "execution_count": 36,
   "id": "8afc797d",
   "metadata": {},
   "outputs": [
    {
     "name": "stdout",
     "output_type": "stream",
     "text": [
      "515\n"
     ]
    }
   ],
   "source": [
    "print(len(dv.feature_names_))"
   ]
  },
  {
   "cell_type": "code",
   "execution_count": 37,
   "id": "f9fb9140",
   "metadata": {},
   "outputs": [],
   "source": [
    "target = 'duration'\n",
    "y_test = data_val[target].values"
   ]
  },
  {
   "cell_type": "code",
   "execution_count": 40,
   "id": "bc7e22ae",
   "metadata": {},
   "outputs": [],
   "source": [
    "y_pred = lr.predict(x_test)"
   ]
  },
  {
   "cell_type": "code",
   "execution_count": 41,
   "id": "7ead29c5",
   "metadata": {},
   "outputs": [
    {
     "data": {
      "text/plain": [
       "7.7864132069521945"
      ]
     },
     "execution_count": 41,
     "metadata": {},
     "output_type": "execute_result"
    }
   ],
   "source": [
    "\n",
    "from sklearn.metrics import mean_squared_error\n",
    "mean_squared_error(y_test,y_pred, squared=False)\n",
    "# What's the RMSE on train? 6.99"
   ]
  },
  {
   "cell_type": "code",
   "execution_count": 42,
   "id": "7799cb51",
   "metadata": {},
   "outputs": [
    {
     "name": "stderr",
     "output_type": "stream",
     "text": [
      "/tmp/ipykernel_11083/1384114014.py:1: UserWarning: \n",
      "\n",
      "`distplot` is a deprecated function and will be removed in seaborn v0.14.0.\n",
      "\n",
      "Please adapt your code to use either `displot` (a figure-level function with\n",
      "similar flexibility) or `histplot` (an axes-level function for histograms).\n",
      "\n",
      "For a guide to updating your code to use the new functions, please see\n",
      "https://gist.github.com/mwaskom/de44147ed2974457ad6372750bbe5751\n",
      "\n",
      "  sns.distplot(y_pred, label=\"Predictions\")\n",
      "/tmp/ipykernel_11083/1384114014.py:2: UserWarning: \n",
      "\n",
      "`distplot` is a deprecated function and will be removed in seaborn v0.14.0.\n",
      "\n",
      "Please adapt your code to use either `displot` (a figure-level function with\n",
      "similar flexibility) or `histplot` (an axes-level function for histograms).\n",
      "\n",
      "For a guide to updating your code to use the new functions, please see\n",
      "https://gist.github.com/mwaskom/de44147ed2974457ad6372750bbe5751\n",
      "\n",
      "  sns.distplot(y_test, label=\"Actuals\")\n"
     ]
    },
    {
     "data": {
      "text/plain": [
       "<matplotlib.legend.Legend at 0x7f30eb5603d0>"
      ]
     },
     "execution_count": 42,
     "metadata": {},
     "output_type": "execute_result"
    },
    {
     "data": {
      "image/png": "[encoded data removed]",
      "text/plain": [
       "<Figure size 640x480 with 1 Axes>"
      ]
     },
     "metadata": {},
     "output_type": "display_data"
    }
   ],
   "source": [
    "sns.distplot(y_pred, label=\"Predictions\")\n",
    "sns.distplot(y_test, label=\"Actuals\")\n",
    "\n",
    "plt.legend()"
   ]
  },
  {
   "cell_type": "code",
   "execution_count": null,
   "id": "52db2917",
   "metadata": {},
   "outputs": [],
   "source": []
  }
 ],
 "metadata": {
  "kernelspec": {
   "display_name": "Python 3 (ipykernel)",
   "language": "python",
   "name": "python3"
  },
  "language_info": {
   "codemirror_mode": {
    "name": "ipython",
    "version": 3
   },
   "file_extension": ".py",
   "mimetype": "text/x-python",
   "name": "python",
   "nbconvert_exporter": "python",
   "pygments_lexer": "ipython3",
   "version": "3.10.9"
  }
 },
 "nbformat": 4,
 "nbformat_minor": 5
}
